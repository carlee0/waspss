{
 "cells": [
  {
   "cell_type": "markdown",
   "metadata": {},
   "source": [
    "# WASP Summer School 2020 \n",
    "# Bayesian Optimization Tools Lab: HyperMapper \n",
    "\n",
    "### Objectives of this hands-on: \n",
    "1. Learn about a simple function used in the optimization literature: the Branin function\n",
    "2. Use HyperMapper to optimize the 1D and 2D Branin functions\n",
    "3. Explore HyperMapper's hyperparameters\n",
    "3. Replace the Branin function with a function f(x) of your choice and optimize it \n",
    "\n",
    "### Prerequisites: \n",
    "In case you didn't go through the prerequisites of the module do it now: [Install](https://github.com/luinardi/hypermapper/wiki/Install-HyperMapper) Anaconda 3, HyperMapper and GPy.\n",
    "\n",
    "Did you remember to export env variables before starting the Jupyter Notebook? If not do the following and restart this notebook: "
   ]
  },
  {
   "cell_type": "raw",
   "metadata": {},
   "source": [
    "export HYPERMAPPER_HOME=/absolute/path/to/hypermapper\n",
    "export PYTHONPATH=$PYTHONPATH:/absolute/path/to/hypermapper/scripts"
   ]
  },
  {
   "cell_type": "markdown",
   "metadata": {},
   "source": [
    "### General Setting: \n",
    "You are looking for a parameter setting that minimizes some performance metric of a function f(x) (such as error of an ML model, runtime, or cost). \n",
    "\n",
    "To use HyperMapper for this purpose you need to tell HyperMapper:\n",
    "1. About your parameter space \n",
    "2. How to evaluate your algorithm's performance"
   ]
  },
  {
   "cell_type": "code",
   "execution_count": null,
   "metadata": {},
   "outputs": [],
   "source": [
    "import matplotlib\n",
    "import matplotlib.pyplot as plt\n",
    "import pandas as pd\n",
    "import numpy as np\n",
    "import math\n",
    "import json\n",
    "import sys\n",
    "import os\n",
    "from matplotlib.lines import Line2D\n",
    "%matplotlib inline"
   ]
  },
  {
   "cell_type": "markdown",
   "metadata": {},
   "source": [
    "## #1 The Branin Function (https://www.sfu.ca/~ssurjano/branin.html) (5 minutes)\n",
    "\n",
    "We look for minimizing the value of this function given the parameter $x_1 \\in [-5, 10]$. $x_2$ is fixed for now: $x_2 = 2.275$ so that the Branin is 1D. The global minimum is at $x_1=\\pi$.\n",
    "\n",
    "This is the 1D Branin function that we want to minimize:"
   ]
  },
  {
   "cell_type": "code",
   "execution_count": null,
   "metadata": {},
   "outputs": [],
   "source": [
    "def branin_function_1d(X):\n",
    "    # The function must receive a dictionary, e.g., X = [{'x1': 2.3}]\n",
    "    x1 = X['x1']\n",
    "    \n",
    "    # Branin function computation\n",
    "    a = 1.0\n",
    "    b = 5.1 / (4.0 * math.pi * math.pi)\n",
    "    c = 5.0 / math.pi\n",
    "    r = 6.0\n",
    "    s = 10.0\n",
    "    t = 1.0 / (8.0 * math.pi)\n",
    "    x2 = 2.275\n",
    "    value = a * (x2 - b * x1 * x1 + c * x1 - r) ** 2 + s * (1 - t) * math.cos(x1) + s\n",
    "\n",
    "    # The function must return the objective value (a number)\n",
    "    return value"
   ]
  },
  {
   "cell_type": "markdown",
   "metadata": {},
   "source": [
    "Plot the 1D Branin and visualize the minimum:"
   ]
  },
  {
   "cell_type": "code",
   "execution_count": null,
   "metadata": {},
   "outputs": [],
   "source": [
    "plt.rcParams['figure.figsize'] = [12, 6]\n",
    "plt.rcParams['font.size'] = 18\n",
    "point_size = matplotlib.rcParams['lines.markersize']**2.8\n",
    "point_size_optimum = matplotlib.rcParams['lines.markersize']**2\n",
    "\n",
    "optimum = math.pi\n",
    "value_at_optimum=branin_function_1d({'x1': optimum})\n",
    "\n",
    "# Sample 1000 (x,y) pairs from the function to plot its curve\n",
    "branin_line_xs = np.linspace(-5, 10, 1000)\n",
    "branin_line_ys = []\n",
    "for x in branin_line_xs:\n",
    "    y = branin_function_1d({'x1': x})\n",
    "    branin_line_ys.append(y)\n",
    "plt.plot(branin_line_xs, branin_line_ys, label=\"1D Branin Function\")\n",
    "\n",
    "# Mark the known optimum on the curve\n",
    "plt.scatter(optimum, value_at_optimum, s=point_size_optimum, marker='o', color=\"black\", label=\"Minimum\")\n",
    "\n",
    "plt.legend()\n",
    "plt.xlabel(\"x1\")\n",
    "plt.ylabel(\"value\")\n",
    "plt.show()\n",
    "print(\"The 1d Branin function has one global optimum at x1 = \\u03C0\", flush=True)\n",
    "print(\"(x, y) at minimum is: (\"+str(optimum)+\",\"+str(value_at_optimum)+\")\", flush=True)"
   ]
  },
  {
   "cell_type": "markdown",
   "metadata": {},
   "source": [
    "## #2 Optimize 1D Branin Using HyperMapper (10 minutes)"
   ]
  },
  {
   "cell_type": "markdown",
   "metadata": {},
   "source": [
    "Refer to the [HyperMapper](https://github.com/luinardi/hypermapper/wiki) wiki for question on the HyperMapper syntax.\n",
    "\n",
    "You can find a list of topics on the menu on the right. [Here](https://github.com/luinardi/hypermapper/wiki/Json-Parameters-File) for example you can find a guide on the json parameters.\n",
    "\n",
    "Specify the json file to run 1D Branin:"
   ]
  },
  {
   "cell_type": "raw",
   "metadata": {},
   "source": [
    "{\n",
    "    \"application_name\": \"1d_branin\",\n",
    "    \"optimization_objectives\": [\"value\"],\n",
    "    \"design_of_experiment\": { \"number_of_samples\": 3 }\n",
    "    \"optimization_iterations\": 10,\n",
    "    \"models\":{\n",
    "        \"model\": \"gaussian_process\"\n",
    "    },\n",
    "    \"input_parameters\" : {\n",
    "        \"x1\": {\n",
    "            \"parameter_type\" : \"real\",\n",
    "            \"values\" : [-5, 10]\n",
    "        }\n",
    "    }\n",
    "}"
   ]
  },
  {
   "cell_type": "markdown",
   "metadata": {},
   "source": [
    "We create the json in python and then dump it on a file: "
   ]
  },
  {
   "cell_type": "code",
   "execution_count": null,
   "metadata": {},
   "outputs": [],
   "source": [
    "scenario = {}\n",
    "scenario[\"application_name\"] = \"1d_branin\"\n",
    "scenario[\"optimization_objectives\"] = [\"value\"]\n",
    "\n",
    "number_of_RS = 2\n",
    "scenario[\"design_of_experiment\"] = {}\n",
    "scenario[\"design_of_experiment\"][\"number_of_samples\"] = number_of_RS\n",
    "\n",
    "scenario[\"optimization_iterations\"] = 15\n",
    "    \n",
    "scenario[\"models\"] = {}\n",
    "scenario[\"models\"][\"model\"] = \"gaussian_process\"\n",
    "\n",
    "scenario[\"input_parameters\"] = {}\n",
    "x1 = {}\n",
    "x1[\"parameter_type\"] = \"real\"\n",
    "x1[\"values\"] = [-5, 10]\n",
    "\n",
    "scenario[\"input_parameters\"][\"x1\"] = x1\n",
    "\n",
    "with open(\"1d_branin.json\", \"w\") as scenario_file:\n",
    "    json.dump(scenario, scenario_file, indent=4)\n"
   ]
  },
  {
   "cell_type": "markdown",
   "metadata": {},
   "source": [
    "To double check, print the json generated: "
   ]
  },
  {
   "cell_type": "code",
   "execution_count": null,
   "metadata": {},
   "outputs": [],
   "source": [
    "f = open(\"1d_branin.json\", \"r\")\n",
    "text = f.read()\n",
    "print(text, flush=True)\n",
    "f.close()"
   ]
  },
  {
   "cell_type": "markdown",
   "metadata": {},
   "source": [
    "### Run HyperMapper\n",
    "You are all set to run 1D Branin and HyperMapper together!\n",
    "\n",
    "To optimize the branin function, call HyperMapper's optimize method with the json file and the branin function as parameters.\n",
    "\n",
    "The execution ends with the message: \"### End of the hypermapper script.\""
   ]
  },
  {
   "cell_type": "code",
   "execution_count": null,
   "metadata": {
    "scrolled": false
   },
   "outputs": [],
   "source": [
    "import hypermapper\n",
    "stdout = sys.stdout # Jupyter uses a special stdout and HyperMapper logging overwrites it. Save stdout to restore later\n",
    "hypermapper.optimize(os. getcwd() + \"/1d_branin.json\", branin_function_1d)\n",
    "sys.stdout = stdout"
   ]
  },
  {
   "cell_type": "markdown",
   "metadata": {},
   "source": [
    "Output is in => \"1d_branin_output_samples.csv\". \n",
    "\n",
    "All the samples explored during optimization are in this file, check it out!"
   ]
  },
  {
   "cell_type": "markdown",
   "metadata": {},
   "source": [
    "### Visualize\n",
    "\n",
    "Visualize the points explored during optimization."
   ]
  },
  {
   "cell_type": "code",
   "execution_count": null,
   "metadata": {
    "scrolled": false
   },
   "outputs": [],
   "source": [
    "cmap = plt.get_cmap('winter')\n",
    "plt.plot(branin_line_xs, branin_line_ys, label=\"1D Branin Function\")\n",
    "\n",
    "# Load the points evaluated by HyperMapper during optimization\n",
    "optimum = math.pi\n",
    "sampled_points = pd.read_csv(\"1d_branin_output_samples.csv\", usecols=['x1', 'value'])\n",
    "x_points = sampled_points['x1'].values\n",
    "y_points = sampled_points['value'].values\n",
    "\n",
    "# Split between DoE and BO\n",
    "doe_x = x_points[:number_of_RS]\n",
    "doe_y = y_points[:number_of_RS]\n",
    "bo_x = x_points[number_of_RS:]\n",
    "bo_y = y_points[number_of_RS:]\n",
    "bo_iterations = list(range(len(bo_x)))\n",
    "\n",
    "plt.scatter(doe_x, doe_y, s=point_size, marker='x', color=\"red\", label=\"Initial Random Sampling\")\n",
    "plt.scatter(optimum, value_at_optimum, s=point_size_optimum, marker='o', color=\"black\", label=\"Minimum\")\n",
    "plt.scatter(bo_x, bo_y, s=point_size, marker='x', c=bo_iterations, cmap=cmap, label=\"Bayesian Otimization\")\n",
    "\n",
    "plt.legend()\n",
    "plt.xlabel(\"x1\")\n",
    "plt.ylabel(\"value\")\n",
    "plt.show()"
   ]
  },
  {
   "cell_type": "markdown",
   "metadata": {},
   "source": [
    "Blue points show points explored during optimization, with brighter points denoting points explored in later iterations. "
   ]
  },
  {
   "cell_type": "markdown",
   "metadata": {},
   "source": [
    "To double check, print the json generated: "
   ]
  },
  {
   "cell_type": "markdown",
   "metadata": {},
   "source": [
    "## 2D Branin\n",
    "\n",
    "Optimize the full (2D) Branin function. $x_1 \\in [-5, 10]$, $x_2 \\in [0, 15]$."
   ]
  },
  {
   "cell_type": "code",
   "execution_count": null,
   "metadata": {},
   "outputs": [],
   "source": [
    "def branin_function(X):\n",
    "    # Here the dictionary contains both input values\n",
    "    x1 = X['x1']\n",
    "    x2 = X['x2']\n",
    "    \n",
    "    a = 1.0\n",
    "    b = 5.1 / (4.0 * math.pi * math.pi)\n",
    "    c = 5.0 / math.pi\n",
    "    r = 6.0\n",
    "    s = 10.0\n",
    "    t = 1.0 / (8.0 * math.pi)\n",
    "\n",
    "    value = a * (x2 - b * x1 * x1 + c * x1 - r) ** 2 + s * (1 - t) * math.cos(x1) + s\n",
    "\n",
    "    return value"
   ]
  },
  {
   "cell_type": "markdown",
   "metadata": {},
   "source": [
    "### Setup HyperMapper to Run on 2d Branin"
   ]
  },
  {
   "cell_type": "markdown",
   "metadata": {},
   "source": [
    "We create a json for the new configuration in python and dump it on a file."
   ]
  },
  {
   "cell_type": "code",
   "execution_count": null,
   "metadata": {},
   "outputs": [],
   "source": [
    "scenario = {}\n",
    "scenario[\"application_name\"] = \"branin\"\n",
    "scenario[\"optimization_objectives\"] = [\"value\"]\n",
    "\n",
    "scenario[\"optimization_iterations\"] = 20\n",
    "\n",
    "scenario[\"models\"] = {}\n",
    "scenario[\"models\"][\"model\"] = \"random_forest\"\n",
    "scenario[\"models\"][\"number_of_trees\"] = 20\n",
    "    \n",
    "scenario[\"input_parameters\"] = {}\n",
    "x1 = {}\n",
    "x1[\"parameter_type\"] = \"real\"\n",
    "x1[\"values\"] = [-5.0, 10.0]\n",
    "\n",
    "x2 = {}\n",
    "x2[\"parameter_type\"] = \"real\"\n",
    "x2[\"values\"] = [0, 15.0]\n",
    "\n",
    "scenario[\"input_parameters\"][\"x1\"] = x1\n",
    "scenario[\"input_parameters\"][\"x2\"] = x2\n",
    "\n",
    "with open(\"branin.json\", \"w\") as scenario_file:\n",
    "    json.dump(scenario, scenario_file, indent=4)"
   ]
  },
  {
   "cell_type": "markdown",
   "metadata": {},
   "source": [
    "To double check, print the json generated: "
   ]
  },
  {
   "cell_type": "code",
   "execution_count": null,
   "metadata": {},
   "outputs": [],
   "source": [
    "f = open(\"branin.json\", \"r\")\n",
    "text = f.read()\n",
    "print(text, flush=True)\n",
    "f.close()"
   ]
  },
  {
   "cell_type": "markdown",
   "metadata": {},
   "source": [
    "### Run HyperMapper\n",
    "\n",
    "The execution ends with the message: \"### End of the hypermapper script.\""
   ]
  },
  {
   "cell_type": "code",
   "execution_count": null,
   "metadata": {
    "scrolled": false
   },
   "outputs": [],
   "source": [
    "hypermapper.optimize(os. getcwd() + \"/branin.json\", branin_function)\n",
    "sys.stdout = stdout"
   ]
  },
  {
   "cell_type": "markdown",
   "metadata": {},
   "source": [
    "### Visualize\n",
    "\n",
    "Visualize the points explored during optimization."
   ]
  },
  {
   "cell_type": "code",
   "execution_count": null,
   "metadata": {},
   "outputs": [],
   "source": [
    "# Plot the value of the Branin function over a grid of the space\n",
    "heatmap_samples = 100\n",
    "x1_heatmap_values = np.linspace(-5, 10, 100)\n",
    "x2_heatmap_values = np.linspace(0, 15, 100)\n",
    "branin_values = np.zeros((heatmap_samples, heatmap_samples), dtype=float)\n",
    "for i, x1 in enumerate(x1_heatmap_values):\n",
    "    for j, x2 in enumerate(x2_heatmap_values):\n",
    "        branin_values[j,i] = branin_function({'x1': x1, 'x2': x2})\n",
    "\n",
    "heat_cmap = plt.get_cmap(\"gist_heat_r\")\n",
    "cf = plt.pcolormesh(x1_heatmap_values, x2_heatmap_values, branin_values, cmap=heat_cmap, alpha=0.5)\n",
    "plt.colorbar(cf)\n",
    "\n",
    "# Load the points evaluated by HyperMapper during optimization\n",
    "sampled_points = pd.read_csv(\"branin_output_samples.csv\", usecols=['x1', 'x2'])\n",
    "x1_points = sampled_points['x1'].values\n",
    "x2_points = sampled_points['x2'].values\n",
    "\n",
    "# Split between DoE and BO\n",
    "doe_x1 = x1_points[:10]\n",
    "doe_x2 = x2_points[:10]\n",
    "bo_x1 = x1_points[10:]\n",
    "bo_x2 = x2_points[10:]\n",
    "bo_iterations = list(range(len(bo_x1)))\n",
    "\n",
    "optima_x1 = [-3.141, 3.141, 9.425]\n",
    "optima_x2 = [12.275, 2.275, 2.475]\n",
    "plt.scatter(optima_x1, optima_x2, s=point_size, marker='x', color=\"black\", label=\"Minima\")\n",
    "plt.scatter(doe_x1, doe_x2, s=point_size**0.8, marker='x', color=\"red\", label=\"Initial Random Sampling\")\n",
    "plt.scatter(bo_x1, bo_x2, s=point_size**0.8, marker='x', c=bo_iterations, cmap=cmap, label=\"Bayesian Otimization\")\n",
    "\n",
    "plt.xlim(min(x1_heatmap_values), max(x1_heatmap_values))\n",
    "plt.ylim(min(x2_heatmap_values), max(x2_heatmap_values))\n",
    "plt.xlabel('x1')\n",
    "plt.ylabel('x2')\n",
    "\n",
    "legend_elements = [\n",
    "    Line2D([0], [0], marker='x', color='red', linestyle='None', label=\"Initial Random Sampling\"),\n",
    "    Line2D([0], [0], marker='x', color='blue', linestyle='None', label=\"Bayesian Optimization\"),\n",
    "    Line2D([0], [0], marker='x', color='black', linestyle='None', label='Minima'),\n",
    "]\n",
    "plt.legend(handles=legend_elements, bbox_to_anchor=(1.75, 1), fancybox=True, shadow=True, ncol=1)\n",
    "\n",
    "plt.show()"
   ]
  },
  {
   "cell_type": "markdown",
   "metadata": {},
   "source": [
    "Blue points show points explored during optimization, with brighter points denoting points explored in later iterations.\n",
    "\n",
    "The Branin function has three optima at $(-\\pi, 12.275)$, $(\\pi, 2.275)$, and $(9.42478, 2.475)$."
   ]
  },
  {
   "cell_type": "markdown",
   "metadata": {},
   "source": [
    "## #3 Experiment With 2D Branin (5 minutes)\n",
    "\n",
    "Experiment with the 2D Branin hacking the json file and running the code above. You can experiment with the following: \n",
    "1. Change the number of iniitialization steps (random samples):\n",
    "\"design_of_experiment\": { \"number_of_samples\": 3 }\n",
    "\n",
    "2. Change the number of optimization steps:\n",
    "\"optimization_iterations\": 20,\n",
    "\n",
    "3. Use a different acquisition function: \n",
    "\"acquisition_function\": \"EI\" or \n",
    "\"acquisition_function\": \"UCB\"  \n",
    "\n",
    "What do you observe? "
   ]
  },
  {
   "cell_type": "markdown",
   "metadata": {},
   "source": [
    "## #4 Experiment With Your Favorite Black-box Function (10 minutes)\n",
    "\n",
    "Perhaps you can chooose a classic function [here](https://www.sfu.ca/~ssurjano/index.html).\n",
    "\n",
    "Or Maybe you can choose your favorite ML model and tune its hyperparameters. Try for example tuning the Random Forests model [here](https://scikit-learn.org/stable/modules/generated/sklearn.ensemble.RandomForestClassifier.html).\n",
    "\n",
    "It is your choice. "
   ]
  },
  {
   "cell_type": "markdown",
   "metadata": {},
   "source": [
    "# End of the Session\n",
    "This is the end of the hands-on and of the whole session. If you have more questions, [ask](luigi.nardi@cs.lth.se) us.\n",
    "\n",
    "And if you liked HyperMapper don't forget to star the [HyperMapper GitHub repo](https://github.com/luinardi/hypermapper/)!\n",
    "\n",
    "Join the HyperMapper Slack channel hypermapper.slack.com! [Request access](luigi.nardi@cs.lth.se)."
   ]
  }
 ],
 "metadata": {
  "kernelspec": {
   "display_name": "Python 3",
   "language": "python",
   "name": "python3"
  },
  "language_info": {
   "codemirror_mode": {
    "name": "ipython",
    "version": 3
   },
   "file_extension": ".py",
   "mimetype": "text/x-python",
   "name": "python",
   "nbconvert_exporter": "python",
   "pygments_lexer": "ipython3",
   "version": "3.7.6"
  }
 },
 "nbformat": 4,
 "nbformat_minor": 2
}
